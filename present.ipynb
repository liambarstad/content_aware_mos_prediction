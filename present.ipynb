{
 "cells": [
  {
   "cell_type": "code",
   "execution_count": null,
   "metadata": {},
   "outputs": [],
   "source": [
    "# exports relevant environment variables\n",
    "import os\n",
    "\n",
    "# expects SOMOS dataset is in data/SOMOS in this directory\n",
    "os.environ['SOMOS_COMBINED_SCORES_LOC'] = 'data/SOMOS/raw_scores_with_metadata/raw_scores.tsv'\n",
    "os.environ['SOMOS_TRAIN_SCORES_LOC'] = 'data/SOMOS/raw_scores_with_metadata/split1/raw_scores_removed_excess_gt_trainset.tsv'\n",
    "os.environ['SOMOS_VAL_SCORES_LOC'] = 'data/SOMOS/raw_scores_with_metadata/split1/raw_scores_removed_excess_gt_validset.tsv'\n",
    "os.environ['SOMOS_TEST_SCORES_LOC'] = 'data/SOMOS/raw_scores_with_metadata/split1/raw_scores_removed_excess_gt_testset.tsv'\n",
    "os.environ['SOMOS_AUDIO_DIR'] = 'data/SOMOS/audios'\n",
    "# saving runs and models in the /runs and /pretrained directories, respectively\n",
    "os.environ['RUNS_DIR'] = 'runs'\n",
    "os.environ['SAVED_MODELS_DIR'] = 'pretrained'"
   ]
  },
  {
   "cell_type": "code",
   "execution_count": null,
   "metadata": {},
   "outputs": [],
   "source": [
    "# train mosnet model as baseline\n",
    "from src.mosnet.train import train as train_mosnet\n",
    "\n",
    "mosnet = train_mosnet('src/mosnet/config.yml', run_key='prod', early_stopping_min_epochs=100)"
   ]
  },
  {
   "cell_type": "code",
   "execution_count": null,
   "metadata": {},
   "outputs": [],
   "source": []
  }
 ],
 "metadata": {
  "kernelspec": {
   "display_name": "mos_prediction",
   "language": "python",
   "name": "python3"
  },
  "language_info": {
   "codemirror_mode": {
    "name": "ipython",
    "version": 3
   },
   "file_extension": ".py",
   "mimetype": "text/x-python",
   "name": "python",
   "nbconvert_exporter": "python",
   "pygments_lexer": "ipython3",
   "version": "3.8.18"
  }
 },
 "nbformat": 4,
 "nbformat_minor": 2
}
