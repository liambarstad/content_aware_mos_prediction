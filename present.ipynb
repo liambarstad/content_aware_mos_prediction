{
 "cells": [
  {
   "cell_type": "code",
   "execution_count": 1,
   "metadata": {},
   "outputs": [],
   "source": [
    "# exports relevant environment variables\n",
    "import os\n",
    "\n",
    "# expects SOMOS dataset is in data/SOMOS in this directory\n",
    "os.environ['SOMOS_COMBINED_SCORES_LOC'] = 'data/SOMOS/raw_scores_with_metadata/raw_scores.tsv'\n",
    "os.environ['SOMOS_TRAIN_SCORES_LOC'] = 'data/SOMOS/raw_scores_with_metadata/split1/raw_scores_removed_excess_gt_trainset.tsv'\n",
    "os.environ['SOMOS_VAL_SCORES_LOC'] = 'data/SOMOS/raw_scores_with_metadata/split1/raw_scores_removed_excess_gt_validset.tsv'\n",
    "os.environ['SOMOS_TEST_SCORES_LOC'] = 'data/SOMOS/raw_scores_with_metadata/split1/raw_scores_removed_excess_gt_testset.tsv'\n",
    "os.environ['SOMOS_AUDIO_DIR'] = 'data/SOMOS/audios'\n",
    "# saving runs and models in the /runs and /pretrained directories, respectively\n",
    "os.environ['RUNS_DIR'] = 'runs'\n",
    "os.environ['SAVED_MODELS_DIR'] = 'pretrained'"
   ]
  },
  {
   "cell_type": "code",
   "execution_count": 3,
   "metadata": {},
   "outputs": [
    {
     "name": "stdout",
     "output_type": "stream",
     "text": [
      "2023-11-11 16:47:57.904504 :: START RUN\n"
     ]
    },
    {
     "ename": "KeyboardInterrupt",
     "evalue": "",
     "output_type": "error",
     "traceback": [
      "\u001b[0;31m---------------------------------------------------------------------------\u001b[0m",
      "\u001b[0;31mKeyboardInterrupt\u001b[0m                         Traceback (most recent call last)",
      "\u001b[1;32m/home/overlord/Documents/content_aware_mos_prediction/present.ipynb Cell 2\u001b[0m line \u001b[0;36m4\n\u001b[1;32m      <a href='vscode-notebook-cell:/home/overlord/Documents/content_aware_mos_prediction/present.ipynb#W1sZmlsZQ%3D%3D?line=0'>1</a>\u001b[0m \u001b[39m# train mosnet model as baseline\u001b[39;00m\n\u001b[1;32m      <a href='vscode-notebook-cell:/home/overlord/Documents/content_aware_mos_prediction/present.ipynb#W1sZmlsZQ%3D%3D?line=1'>2</a>\u001b[0m \u001b[39mfrom\u001b[39;00m \u001b[39msrc\u001b[39;00m\u001b[39m.\u001b[39;00m\u001b[39mmosnet\u001b[39;00m\u001b[39m.\u001b[39;00m\u001b[39mtrain\u001b[39;00m \u001b[39mimport\u001b[39;00m train \u001b[39mas\u001b[39;00m train_mosnet\n\u001b[0;32m----> <a href='vscode-notebook-cell:/home/overlord/Documents/content_aware_mos_prediction/present.ipynb#W1sZmlsZQ%3D%3D?line=3'>4</a>\u001b[0m mosnet \u001b[39m=\u001b[39m train_mosnet(\u001b[39m'\u001b[39;49m\u001b[39msrc/mosnet/config.yml\u001b[39;49m\u001b[39m'\u001b[39;49m, run_key\u001b[39m=\u001b[39;49m\u001b[39m'\u001b[39;49m\u001b[39mprod\u001b[39;49m\u001b[39m'\u001b[39;49m, early_stopping_min_epochs\u001b[39m=\u001b[39;49m\u001b[39m100\u001b[39;49m)\n",
      "File \u001b[0;32m~/Documents/content_aware_mos_prediction/src/mosnet/train.py:135\u001b[0m, in \u001b[0;36mtrain\u001b[0;34m(config_path, validate_loop, early_stopping_delta, early_stopping_patience, early_stopping_min_epochs, seed_value, run_key)\u001b[0m\n\u001b[1;32m    132\u001b[0m utterance_scores, frame_scores \u001b[39m=\u001b[39m mosnet(audio\u001b[39m.\u001b[39mto(device), sample_lengths) \n\u001b[1;32m    134\u001b[0m loss \u001b[39m=\u001b[39m mosnet_loss(utterance_scores, frame_scores, mos_scores\u001b[39m.\u001b[39mto(device), params\u001b[39m.\u001b[39mtrain[\u001b[39m'\u001b[39m\u001b[39mframe_weighting_factor\u001b[39m\u001b[39m'\u001b[39m])\n\u001b[0;32m--> 135\u001b[0m loss\u001b[39m.\u001b[39;49mbackward()\n\u001b[1;32m    136\u001b[0m optimizer\u001b[39m.\u001b[39mstep()\n\u001b[1;32m    138\u001b[0m train_metrics\u001b[39m.\u001b[39mupdate(utterance_scores, frame_scores, mos_scores) \n",
      "File \u001b[0;32m~/anaconda3/envs/mos_prediction/lib/python3.8/site-packages/torch/_tensor.py:487\u001b[0m, in \u001b[0;36mTensor.backward\u001b[0;34m(self, gradient, retain_graph, create_graph, inputs)\u001b[0m\n\u001b[1;32m    477\u001b[0m \u001b[39mif\u001b[39;00m has_torch_function_unary(\u001b[39mself\u001b[39m):\n\u001b[1;32m    478\u001b[0m     \u001b[39mreturn\u001b[39;00m handle_torch_function(\n\u001b[1;32m    479\u001b[0m         Tensor\u001b[39m.\u001b[39mbackward,\n\u001b[1;32m    480\u001b[0m         (\u001b[39mself\u001b[39m,),\n\u001b[0;32m   (...)\u001b[0m\n\u001b[1;32m    485\u001b[0m         inputs\u001b[39m=\u001b[39minputs,\n\u001b[1;32m    486\u001b[0m     )\n\u001b[0;32m--> 487\u001b[0m torch\u001b[39m.\u001b[39;49mautograd\u001b[39m.\u001b[39;49mbackward(\n\u001b[1;32m    488\u001b[0m     \u001b[39mself\u001b[39;49m, gradient, retain_graph, create_graph, inputs\u001b[39m=\u001b[39;49minputs\n\u001b[1;32m    489\u001b[0m )\n",
      "File \u001b[0;32m~/anaconda3/envs/mos_prediction/lib/python3.8/site-packages/torch/autograd/__init__.py:200\u001b[0m, in \u001b[0;36mbackward\u001b[0;34m(tensors, grad_tensors, retain_graph, create_graph, grad_variables, inputs)\u001b[0m\n\u001b[1;32m    195\u001b[0m     retain_graph \u001b[39m=\u001b[39m create_graph\n\u001b[1;32m    197\u001b[0m \u001b[39m# The reason we repeat same the comment below is that\u001b[39;00m\n\u001b[1;32m    198\u001b[0m \u001b[39m# some Python versions print out the first line of a multi-line function\u001b[39;00m\n\u001b[1;32m    199\u001b[0m \u001b[39m# calls in the traceback and some print out the last line\u001b[39;00m\n\u001b[0;32m--> 200\u001b[0m Variable\u001b[39m.\u001b[39;49m_execution_engine\u001b[39m.\u001b[39;49mrun_backward(  \u001b[39m# Calls into the C++ engine to run the backward pass\u001b[39;49;00m\n\u001b[1;32m    201\u001b[0m     tensors, grad_tensors_, retain_graph, create_graph, inputs,\n\u001b[1;32m    202\u001b[0m     allow_unreachable\u001b[39m=\u001b[39;49m\u001b[39mTrue\u001b[39;49;00m, accumulate_grad\u001b[39m=\u001b[39;49m\u001b[39mTrue\u001b[39;49;00m)\n",
      "\u001b[0;31mKeyboardInterrupt\u001b[0m: "
     ]
    }
   ],
   "source": [
    "# train mosnet model as baseline\n",
    "from src.mosnet.train import train as train_mosnet\n",
    "\n",
    "mosnet = train_mosnet('src/mosnet/config.yml', run_key='prod', early_stopping_min_epochs=100)"
   ]
  },
  {
   "cell_type": "code",
   "execution_count": null,
   "metadata": {},
   "outputs": [],
   "source": []
  }
 ],
 "metadata": {
  "kernelspec": {
   "display_name": "mos_prediction",
   "language": "python",
   "name": "python3"
  },
  "language_info": {
   "codemirror_mode": {
    "name": "ipython",
    "version": 3
   },
   "file_extension": ".py",
   "mimetype": "text/x-python",
   "name": "python",
   "nbconvert_exporter": "python",
   "pygments_lexer": "ipython3",
   "version": "3.8.18"
  }
 },
 "nbformat": 4,
 "nbformat_minor": 2
}
