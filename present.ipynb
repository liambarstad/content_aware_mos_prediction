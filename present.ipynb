{
 "cells": [
  {
   "cell_type": "code",
   "execution_count": 1,
   "metadata": {},
   "outputs": [
    {
     "name": "stdout",
     "output_type": "stream",
     "text": [
      "2024-01-06 19:56:58.694203 :: VALIDATION SET PREPARED :: 55 SAMPLES\n",
      "VAL min wasserstein distance: 0.0535206090949691\n",
      "2024-01-06 19:57:31.538124 :: TEST SET PREPARED :: 52 SAMPLES\n",
      "TEST min wasserstein distance: 0.00944398217953811\n",
      "validation locales\n",
      "us: 55\n",
      "test locales\n",
      "us: 28\n",
      "gb: 24\n",
      "2024-01-06 19:57:31.539653 :: SAVED TO data/somos_prepared\n"
     ]
    }
   ],
   "source": [
    "import json\n",
    "from src.test import test\n",
    "\n",
    "DEVICE = 'cuda:0'\n",
    "\n",
    "# prepare validation and test sets\n",
    "\n",
    "from src.processing import prepare_somos_data\n",
    "\n",
    "prepare_somos_data(\n",
    "    listeners=10,\n",
    "    systems=10,\n",
    "    texts=50,\n",
    "    num_iterations=1000,\n",
    "    somos_dir='data/SOMOS',\n",
    "    output_dir='data/somos_prepared',\n",
    "    random_seed=1234\n",
    ") "
   ]
  },
  {
   "cell_type": "code",
   "execution_count": 2,
   "metadata": {},
   "outputs": [
    {
     "ename": "ImportError",
     "evalue": "cannot import name 'SOMOSTestValDataset' from 'src.datasets' (/home/overlord/Documents/content_aware_mos_prediction/src/datasets.py)",
     "output_type": "error",
     "traceback": [
      "\u001b[0;31m---------------------------------------------------------------------------\u001b[0m",
      "\u001b[0;31mImportError\u001b[0m                               Traceback (most recent call last)",
      "\u001b[1;32m/home/overlord/Documents/content_aware_mos_prediction/present.ipynb Cell 2\u001b[0m line \u001b[0;36m4\n\u001b[1;32m      <a href='vscode-notebook-cell:/home/overlord/Documents/content_aware_mos_prediction/present.ipynb#W1sZmlsZQ%3D%3D?line=0'>1</a>\u001b[0m \u001b[39m# define MOSNet model baseline\u001b[39;00m\n\u001b[1;32m      <a href='vscode-notebook-cell:/home/overlord/Documents/content_aware_mos_prediction/present.ipynb#W1sZmlsZQ%3D%3D?line=2'>3</a>\u001b[0m \u001b[39mfrom\u001b[39;00m \u001b[39msrc\u001b[39;00m\u001b[39m.\u001b[39;00m\u001b[39mmosnet\u001b[39;00m\u001b[39m.\u001b[39;00m\u001b[39mmodels\u001b[39;00m \u001b[39mimport\u001b[39;00m MOSNet, ProsAlignMOSNet\n\u001b[0;32m----> <a href='vscode-notebook-cell:/home/overlord/Documents/content_aware_mos_prediction/present.ipynb#W1sZmlsZQ%3D%3D?line=3'>4</a>\u001b[0m \u001b[39mfrom\u001b[39;00m \u001b[39msrc\u001b[39;00m\u001b[39m.\u001b[39;00m\u001b[39mmosnet\u001b[39;00m\u001b[39m.\u001b[39;00m\u001b[39mtrain\u001b[39;00m \u001b[39mimport\u001b[39;00m train_mosnet\n\u001b[1;32m      <a href='vscode-notebook-cell:/home/overlord/Documents/content_aware_mos_prediction/present.ipynb#W1sZmlsZQ%3D%3D?line=5'>6</a>\u001b[0m MOSNET_STFT_PARAMS \u001b[39m=\u001b[39m {\n\u001b[1;32m      <a href='vscode-notebook-cell:/home/overlord/Documents/content_aware_mos_prediction/present.ipynb#W1sZmlsZQ%3D%3D?line=6'>7</a>\u001b[0m     \u001b[39m'\u001b[39m\u001b[39mn_fft\u001b[39m\u001b[39m'\u001b[39m: \u001b[39m512\u001b[39m,\n\u001b[1;32m      <a href='vscode-notebook-cell:/home/overlord/Documents/content_aware_mos_prediction/present.ipynb#W1sZmlsZQ%3D%3D?line=7'>8</a>\u001b[0m     \u001b[39m'\u001b[39m\u001b[39mhop_length\u001b[39m\u001b[39m'\u001b[39m: \u001b[39m256\u001b[39m\n\u001b[1;32m      <a href='vscode-notebook-cell:/home/overlord/Documents/content_aware_mos_prediction/present.ipynb#W1sZmlsZQ%3D%3D?line=8'>9</a>\u001b[0m }\n\u001b[1;32m     <a href='vscode-notebook-cell:/home/overlord/Documents/content_aware_mos_prediction/present.ipynb#W1sZmlsZQ%3D%3D?line=10'>11</a>\u001b[0m BASELINE_MOSNET_PARAMS \u001b[39m=\u001b[39m {\n\u001b[1;32m     <a href='vscode-notebook-cell:/home/overlord/Documents/content_aware_mos_prediction/present.ipynb#W1sZmlsZQ%3D%3D?line=11'>12</a>\u001b[0m     \u001b[39m'\u001b[39m\u001b[39mcnn_channels\u001b[39m\u001b[39m'\u001b[39m: [\u001b[39m16\u001b[39m, \u001b[39m32\u001b[39m, \u001b[39m64\u001b[39m, \u001b[39m128\u001b[39m],\n\u001b[1;32m     <a href='vscode-notebook-cell:/home/overlord/Documents/content_aware_mos_prediction/present.ipynb#W1sZmlsZQ%3D%3D?line=12'>13</a>\u001b[0m     \u001b[39m'\u001b[39m\u001b[39mcnn_kernel_size\u001b[39m\u001b[39m'\u001b[39m: \u001b[39m3\u001b[39m,\n\u001b[0;32m   (...)\u001b[0m\n\u001b[1;32m     <a href='vscode-notebook-cell:/home/overlord/Documents/content_aware_mos_prediction/present.ipynb#W1sZmlsZQ%3D%3D?line=15'>16</a>\u001b[0m     \u001b[39m'\u001b[39m\u001b[39mfc_dropout\u001b[39m\u001b[39m'\u001b[39m: \u001b[39m0.3\u001b[39m\n\u001b[1;32m     <a href='vscode-notebook-cell:/home/overlord/Documents/content_aware_mos_prediction/present.ipynb#W1sZmlsZQ%3D%3D?line=16'>17</a>\u001b[0m }\n",
      "File \u001b[0;32m~/Documents/content_aware_mos_prediction/src/mosnet/train.py:13\u001b[0m\n\u001b[1;32m     11\u001b[0m \u001b[39mfrom\u001b[39;00m \u001b[39m.\u001b[39;00m\u001b[39m.\u001b[39;00m\u001b[39mmetrics\u001b[39;00m \u001b[39mimport\u001b[39;00m Metrics\n\u001b[1;32m     12\u001b[0m \u001b[39mfrom\u001b[39;00m \u001b[39m.\u001b[39;00m\u001b[39m.\u001b[39;00m\u001b[39mutils\u001b[39;00m \u001b[39mimport\u001b[39;00m pad_audio_batch\n\u001b[0;32m---> 13\u001b[0m \u001b[39mfrom\u001b[39;00m \u001b[39m.\u001b[39;00m\u001b[39m.\u001b[39;00m\u001b[39mvalidate\u001b[39;00m \u001b[39mimport\u001b[39;00m validate\n\u001b[1;32m     15\u001b[0m \u001b[39mdef\u001b[39;00m \u001b[39mtrain_mosnet\u001b[39m(\n\u001b[1;32m     16\u001b[0m     model: torch\u001b[39m.\u001b[39mnn\u001b[39m.\u001b[39mModule,\n\u001b[1;32m     17\u001b[0m     model_name: \u001b[39mstr\u001b[39m,\n\u001b[0;32m   (...)\u001b[0m\n\u001b[1;32m     25\u001b[0m     validate_every_n_epochs: \u001b[39mint\u001b[39m \u001b[39m=\u001b[39m \u001b[39m1\u001b[39m\n\u001b[1;32m     26\u001b[0m     ):\n\u001b[1;32m     28\u001b[0m     torch\u001b[39m.\u001b[39mmanual_seed(seed_value)\n",
      "File \u001b[0;32m~/Documents/content_aware_mos_prediction/src/validate.py:9\u001b[0m\n\u001b[1;32m      6\u001b[0m \u001b[39mimport\u001b[39;00m \u001b[39mtorch\u001b[39;00m\n\u001b[1;32m      7\u001b[0m \u001b[39mfrom\u001b[39;00m \u001b[39mtorch\u001b[39;00m\u001b[39m.\u001b[39;00m\u001b[39mutils\u001b[39;00m\u001b[39m.\u001b[39;00m\u001b[39mdata\u001b[39;00m \u001b[39mimport\u001b[39;00m DataLoader\n\u001b[0;32m----> 9\u001b[0m \u001b[39mfrom\u001b[39;00m \u001b[39m.\u001b[39;00m\u001b[39mdatasets\u001b[39;00m \u001b[39mimport\u001b[39;00m SOMOSTestValDataset\n\u001b[1;32m     10\u001b[0m \u001b[39mfrom\u001b[39;00m \u001b[39m.\u001b[39;00m\u001b[39mutils\u001b[39;00m \u001b[39mimport\u001b[39;00m pad_audio_batch\n\u001b[1;32m     11\u001b[0m \u001b[39mfrom\u001b[39;00m \u001b[39m.\u001b[39;00m\u001b[39mmetrics\u001b[39;00m \u001b[39mimport\u001b[39;00m Metrics\n",
      "\u001b[0;31mImportError\u001b[0m: cannot import name 'SOMOSTestValDataset' from 'src.datasets' (/home/overlord/Documents/content_aware_mos_prediction/src/datasets.py)"
     ]
    }
   ],
   "source": [
    "# define MOSNet model baseline\n",
    "\n",
    "from src.mosnet.models import MOSNet, ProsAlignMOSNet\n",
    "from src.mosnet.train import train_mosnet\n",
    "\n",
    "MOSNET_STFT_PARAMS = {\n",
    "    'n_fft': 512,\n",
    "    'hop_length': 256\n",
    "}\n",
    "\n",
    "BASELINE_MOSNET_PARAMS = {\n",
    "    'cnn_channels': [16, 32, 64, 128],\n",
    "    'cnn_kernel_size': 3,\n",
    "    'blstm_hidden_size': 128,\n",
    "    'fc_hidden_size': 128,\n",
    "    'fc_dropout': 0.3\n",
    "}\n",
    "\n",
    "TEST_VAL_DIR = 'data/somos_prepared'\n",
    "model = MOSNet(\n",
    "    stft_params=MOSNET_STFT_PARAMS,\n",
    "    model_params=BASELINE_MOSNET_PARAMS\n",
    ").to(DEVICE)"
   ]
  },
  {
   "cell_type": "code",
   "execution_count": 3,
   "metadata": {},
   "outputs": [
    {
     "name": "stdout",
     "output_type": "stream",
     "text": [
      "2023-12-10 16:29:04.425595 :: START RUN\n",
      "2023-12-10 16:29:50.518140 :: EPOCH 1 :: MOSNET_TRAIN :: METRICS :: \n",
      "UTTERANCE :: { lcc: 0.0272, srcc: 0.0416, mse: 0.3171, ktau: 0.0279 } :: SYSTEM :: { lcc: 0.0615, srcc: 0.0574, mse: 0.3305, ktau: 0.0417 }\n",
      "2023-12-10 16:30:36.983739 :: EPOCH 2 :: MOSNET_TRAIN :: METRICS :: \n",
      "UTTERANCE :: { lcc: 0.1313, srcc: 0.1187, mse: 0.3105, ktau: 0.0799 } :: SYSTEM :: { lcc: 0.1593, srcc: 0.1323, mse: 0.3088, ktau: 0.0897 }\n",
      "2023-12-10 16:31:23.031364 :: EPOCH 3 :: MOSNET_TRAIN :: METRICS :: \n",
      "UTTERANCE :: { lcc: 0.2608, srcc: 0.2555, mse: 0.3009, ktau: 0.1727 } :: SYSTEM :: { lcc: 0.2903, srcc: 0.2221, mse: 0.2907, ktau: 0.1584 }\n",
      "2023-12-10 16:32:09.185039 :: EPOCH 4 :: MOSNET_TRAIN :: METRICS :: \n",
      "UTTERANCE :: { lcc: 0.2992, srcc: 0.2996, mse: 0.2944, ktau: 0.2029 } :: SYSTEM :: { lcc: 0.3118, srcc: 0.3384, mse: 0.3031, ktau: 0.2330 }\n",
      "2023-12-10 16:32:55.171757 :: EPOCH 5 :: MOSNET_TRAIN :: METRICS :: \n",
      "UTTERANCE :: { lcc: 0.3365, srcc: 0.3351, mse: 0.2883, ktau: 0.2277 } :: SYSTEM :: { lcc: 0.4400, srcc: 0.4327, mse: 0.2544, ktau: 0.2970 }\n",
      "2023-12-10 16:33:41.490552 :: EPOCH 6 :: MOSNET_TRAIN :: METRICS :: \n",
      "UTTERANCE :: { lcc: 0.3589, srcc: 0.3542, mse: 0.2839, ktau: 0.2413 } :: SYSTEM :: { lcc: 0.3525, srcc: 0.3641, mse: 0.2666, ktau: 0.2527 }\n",
      "2023-12-10 16:34:27.798678 :: EPOCH 7 :: MOSNET_TRAIN :: METRICS :: \n",
      "UTTERANCE :: { lcc: 0.3772, srcc: 0.3749, mse: 0.2790, ktau: 0.2562 } :: SYSTEM :: { lcc: 0.3211, srcc: 0.3169, mse: 0.2875, ktau: 0.2173 }\n",
      "2023-12-10 16:35:14.052785 :: EPOCH 8 :: MOSNET_TRAIN :: METRICS :: \n",
      "UTTERANCE :: { lcc: 0.3603, srcc: 0.3491, mse: 0.2791, ktau: 0.2378 } :: SYSTEM :: { lcc: 0.3392, srcc: 0.3614, mse: 0.2664, ktau: 0.2518 }\n",
      "2023-12-10 16:36:00.270875 :: EPOCH 9 :: MOSNET_TRAIN :: METRICS :: \n",
      "UTTERANCE :: { lcc: 0.4063, srcc: 0.3889, mse: 0.2652, ktau: 0.2662 } :: SYSTEM :: { lcc: 0.3888, srcc: 0.3231, mse: 0.2555, ktau: 0.2247 }\n",
      "2023-12-10 16:36:46.514735 :: EPOCH 10 :: MOSNET_TRAIN :: METRICS :: \n",
      "UTTERANCE :: { lcc: 0.4253, srcc: 0.4121, mse: 0.2590, ktau: 0.2833 } :: SYSTEM :: { lcc: 0.3836, srcc: 0.3731, mse: 0.2888, ktau: 0.2569 }\n",
      "2023-12-10 16:37:31.997535 :: EPOCH 11 :: MOSNET_TRAIN :: METRICS :: \n",
      "UTTERANCE :: { lcc: 0.4543, srcc: 0.4376, mse: 0.2508, ktau: 0.3022 } :: SYSTEM :: { lcc: 0.4309, srcc: 0.4089, mse: 0.2345, ktau: 0.2851 }\n",
      "2023-12-10 16:38:17.907018 :: EPOCH 12 :: MOSNET_TRAIN :: METRICS :: \n",
      "UTTERANCE :: { lcc: 0.4750, srcc: 0.4601, mse: 0.2449, ktau: 0.3187 } :: SYSTEM :: { lcc: 0.5424, srcc: 0.4989, mse: 0.2346, ktau: 0.3481 }\n",
      "2023-12-10 16:39:06.461417 :: EPOCH 13 :: MOSNET_TRAIN :: METRICS :: \n",
      "UTTERANCE :: { lcc: 0.4909, srcc: 0.4745, mse: 0.2398, ktau: 0.3296 } :: SYSTEM :: { lcc: 0.4031, srcc: 0.3630, mse: 0.2458, ktau: 0.2539 }\n",
      "2023-12-10 16:39:55.962210 :: EPOCH 14 :: MOSNET_TRAIN :: METRICS :: \n",
      "UTTERANCE :: { lcc: 0.5046, srcc: 0.4900, mse: 0.2355, ktau: 0.3408 } :: SYSTEM :: { lcc: 0.4840, srcc: 0.4733, mse: 0.2345, ktau: 0.3399 }\n",
      "2023-12-10 16:40:45.613985 :: EPOCH 15 :: MOSNET_TRAIN :: METRICS :: \n",
      "UTTERANCE :: { lcc: 0.5144, srcc: 0.4997, mse: 0.2323, ktau: 0.3481 } :: SYSTEM :: { lcc: 0.5039, srcc: 0.4435, mse: 0.2253, ktau: 0.3109 }\n",
      "2023-12-10 16:41:34.953002 :: EPOCH 16 :: MOSNET_TRAIN :: METRICS :: \n",
      "UTTERANCE :: { lcc: 0.5292, srcc: 0.5124, mse: 0.2277, ktau: 0.3579 } :: SYSTEM :: { lcc: 0.5045, srcc: 0.4602, mse: 0.2800, ktau: 0.3196 }\n",
      "2023-12-10 16:42:24.100068 :: EPOCH 17 :: MOSNET_TRAIN :: METRICS :: \n",
      "UTTERANCE :: { lcc: 0.5360, srcc: 0.5236, mse: 0.2250, ktau: 0.3669 } :: SYSTEM :: { lcc: 0.5747, srcc: 0.5808, mse: 0.2032, ktau: 0.4125 }\n",
      "2023-12-10 16:43:13.143431 :: EPOCH 18 :: MOSNET_TRAIN :: METRICS :: \n",
      "UTTERANCE :: { lcc: 0.5351, srcc: 0.5230, mse: 0.2256, ktau: 0.3660 } :: SYSTEM :: { lcc: 0.4954, srcc: 0.4751, mse: 0.1955, ktau: 0.3338 }\n",
      "2023-12-10 16:44:02.877600 :: EPOCH 19 :: MOSNET_TRAIN :: METRICS :: \n",
      "UTTERANCE :: { lcc: 0.5537, srcc: 0.5391, mse: 0.2191, ktau: 0.3788 } :: SYSTEM :: { lcc: 0.4998, srcc: 0.4976, mse: 0.2349, ktau: 0.3535 }\n",
      "2023-12-10 16:44:52.649978 :: EPOCH 20 :: MOSNET_TRAIN :: METRICS :: \n",
      "UTTERANCE :: { lcc: 0.5429, srcc: 0.5293, mse: 0.2233, ktau: 0.3703 } :: SYSTEM :: { lcc: 0.5963, srcc: 0.5860, mse: 0.1822, ktau: 0.4220 }\n",
      "2023-12-10 16:45:43.093735 :: EPOCH 21 :: MOSNET_TRAIN :: METRICS :: \n",
      "UTTERANCE :: { lcc: 0.5701, srcc: 0.5558, mse: 0.2132, ktau: 0.3914 } :: SYSTEM :: { lcc: 0.5638, srcc: 0.5473, mse: 0.2286, ktau: 0.3907 }\n",
      "2023-12-10 16:46:32.532099 :: EPOCH 22 :: MOSNET_TRAIN :: METRICS :: \n",
      "UTTERANCE :: { lcc: 0.5890, srcc: 0.5781, mse: 0.2061, ktau: 0.4084 } :: SYSTEM :: { lcc: 0.6153, srcc: 0.5760, mse: 0.2338, ktau: 0.4122 }\n",
      "2023-12-10 16:47:22.103353 :: EPOCH 23 :: MOSNET_TRAIN :: METRICS :: \n",
      "UTTERANCE :: { lcc: 0.6126, srcc: 0.5995, mse: 0.1974, ktau: 0.4261 } :: SYSTEM :: { lcc: 0.6030, srcc: 0.5843, mse: 0.2035, ktau: 0.4115 }\n",
      "2023-12-10 16:48:11.550530 :: EPOCH 24 :: MOSNET_TRAIN :: METRICS :: \n",
      "UTTERANCE :: { lcc: 0.6389, srcc: 0.6278, mse: 0.1871, ktau: 0.4492 } :: SYSTEM :: { lcc: 0.6440, srcc: 0.6244, mse: 0.1664, ktau: 0.4509 }\n",
      "2023-12-10 16:49:01.055355 :: EPOCH 25 :: MOSNET_TRAIN :: METRICS :: \n",
      "UTTERANCE :: { lcc: 0.6453, srcc: 0.6343, mse: 0.1843, ktau: 0.4540 } :: SYSTEM :: { lcc: 0.6820, srcc: 0.6746, mse: 0.1669, ktau: 0.4903 }\n",
      "2023-12-10 16:49:51.195055 :: EPOCH 26 :: MOSNET_TRAIN :: METRICS :: \n",
      "UTTERANCE :: { lcc: 0.6802, srcc: 0.6715, mse: 0.1700, ktau: 0.4861 } :: SYSTEM :: { lcc: 0.7083, srcc: 0.7082, mse: 0.1606, ktau: 0.5270 }\n",
      "2023-12-10 16:50:41.371452 :: EPOCH 27 :: MOSNET_TRAIN :: METRICS :: \n",
      "UTTERANCE :: { lcc: 0.6975, srcc: 0.6887, mse: 0.1625, ktau: 0.5008 } :: SYSTEM :: { lcc: 0.7161, srcc: 0.7012, mse: 0.1442, ktau: 0.5226 }\n",
      "2023-12-10 16:51:31.024455 :: EPOCH 28 :: MOSNET_TRAIN :: METRICS :: \n",
      "UTTERANCE :: { lcc: 0.7254, srcc: 0.7178, mse: 0.1499, ktau: 0.5283 } :: SYSTEM :: { lcc: 0.7482, srcc: 0.7461, mse: 0.1629, ktau: 0.5557 }\n",
      "2023-12-10 16:52:20.613218 :: EPOCH 29 :: MOSNET_TRAIN :: METRICS :: \n",
      "UTTERANCE :: { lcc: 0.7472, srcc: 0.7415, mse: 0.1397, ktau: 0.5496 } :: SYSTEM :: { lcc: 0.7509, srcc: 0.7525, mse: 0.1178, ktau: 0.5661 }\n",
      "2023-12-10 16:53:10.235118 :: EPOCH 30 :: MOSNET_TRAIN :: METRICS :: \n",
      "UTTERANCE :: { lcc: 0.7743, srcc: 0.7703, mse: 0.1269, ktau: 0.5780 } :: SYSTEM :: { lcc: 0.8028, srcc: 0.7894, mse: 0.1165, ktau: 0.6114 }\n",
      "2023-12-10 16:53:59.809324 :: EPOCH 31 :: MOSNET_TRAIN :: METRICS :: \n",
      "UTTERANCE :: { lcc: 0.7948, srcc: 0.7927, mse: 0.1166, ktau: 0.6005 } :: SYSTEM :: { lcc: 0.7648, srcc: 0.7459, mse: 0.1306, ktau: 0.5589 }\n",
      "2023-12-10 16:54:49.500396 :: EPOCH 32 :: MOSNET_TRAIN :: METRICS :: \n",
      "UTTERANCE :: { lcc: 0.8151, srcc: 0.8150, mse: 0.1064, ktau: 0.6234 } :: SYSTEM :: { lcc: 0.8423, srcc: 0.8280, mse: 0.0935, ktau: 0.6480 }\n",
      "2023-12-10 16:55:39.601411 :: EPOCH 33 :: MOSNET_TRAIN :: METRICS :: \n",
      "UTTERANCE :: { lcc: 0.8322, srcc: 0.8331, mse: 0.0975, ktau: 0.6433 } :: SYSTEM :: { lcc: 0.8306, srcc: 0.8162, mse: 0.1011, ktau: 0.6335 }\n",
      "2023-12-10 16:56:29.601715 :: EPOCH 34 :: MOSNET_TRAIN :: METRICS :: \n",
      "UTTERANCE :: { lcc: 0.7119, srcc: 0.7071, mse: 0.1558, ktau: 0.5179 } :: SYSTEM :: { lcc: 0.6637, srcc: 0.6513, mse: 0.2041, ktau: 0.4755 }\n",
      "2023-12-10 16:57:19.241631 :: EPOCH 35 :: MOSNET_TRAIN :: METRICS :: \n",
      "UTTERANCE :: { lcc: 0.4908, srcc: 0.4770, mse: 0.2400, ktau: 0.3301 } :: SYSTEM :: { lcc: 0.5127, srcc: 0.4920, mse: 0.1966, ktau: 0.3474 }\n",
      "2023-12-10 16:58:09.280294 :: EPOCH 36 :: MOSNET_TRAIN :: METRICS :: \n",
      "UTTERANCE :: { lcc: 0.6059, srcc: 0.5967, mse: 0.2010, ktau: 0.4228 } :: SYSTEM :: { lcc: 0.6022, srcc: 0.5800, mse: 0.2068, ktau: 0.4172 }\n",
      "2023-12-10 16:58:59.171744 :: EPOCH 37 :: MOSNET_TRAIN :: METRICS :: \n",
      "UTTERANCE :: { lcc: 0.7203, srcc: 0.7173, mse: 0.1528, ktau: 0.5257 } :: SYSTEM :: { lcc: 0.7288, srcc: 0.7368, mse: 0.1597, ktau: 0.5443 }\n",
      "2023-12-10 16:59:48.577412 :: EPOCH 38 :: MOSNET_TRAIN :: METRICS :: \n",
      "UTTERANCE :: { lcc: 0.7984, srcc: 0.7990, mse: 0.1150, ktau: 0.6056 } :: SYSTEM :: { lcc: 0.8123, srcc: 0.7911, mse: 0.1017, ktau: 0.6054 }\n",
      "2023-12-10 17:00:38.238947 :: EPOCH 39 :: MOSNET_TRAIN :: METRICS :: \n",
      "UTTERANCE :: { lcc: 0.8326, srcc: 0.8344, mse: 0.0974, ktau: 0.6442 } :: SYSTEM :: { lcc: 0.8223, srcc: 0.8091, mse: 0.0948, ktau: 0.6347 }\n",
      "2023-12-10 17:01:28.137853 :: EPOCH 40 :: MOSNET_TRAIN :: METRICS :: \n",
      "UTTERANCE :: { lcc: 0.8642, srcc: 0.8689, mse: 0.0804, ktau: 0.6853 } :: SYSTEM :: { lcc: 0.8516, srcc: 0.8520, mse: 0.0744, ktau: 0.6829 }\n",
      "2023-12-10 17:02:17.838378 :: EPOCH 41 :: MOSNET_TRAIN :: METRICS :: \n",
      "UTTERANCE :: { lcc: 0.8798, srcc: 0.8843, mse: 0.0718, ktau: 0.7062 } :: SYSTEM :: { lcc: 0.8651, srcc: 0.8354, mse: 0.0828, ktau: 0.6669 }\n",
      "2023-12-10 17:03:07.670646 :: EPOCH 42 :: MOSNET_TRAIN :: METRICS :: \n",
      "UTTERANCE :: { lcc: 0.8953, srcc: 0.9011, mse: 0.0631, ktau: 0.7285 } :: SYSTEM :: { lcc: 0.8804, srcc: 0.8882, mse: 0.0687, ktau: 0.7205 }\n",
      "2023-12-10 17:03:55.332177 :: EPOCH 43 :: MOSNET_TRAIN :: METRICS :: \n",
      "UTTERANCE :: { lcc: 0.9113, srcc: 0.9179, mse: 0.0541, ktau: 0.7544 } :: SYSTEM :: { lcc: 0.9193, srcc: 0.9206, mse: 0.0668, ktau: 0.7677 }\n",
      "2023-12-10 17:04:39.609155 :: EPOCH 44 :: MOSNET_TRAIN :: METRICS :: \n",
      "UTTERANCE :: { lcc: 0.9230, srcc: 0.9301, mse: 0.0472, ktau: 0.7748 } :: SYSTEM :: { lcc: 0.9165, srcc: 0.9137, mse: 0.0446, ktau: 0.7608 }\n",
      "2023-12-10 17:05:23.755305 :: EPOCH 45 :: MOSNET_TRAIN :: METRICS :: \n",
      "UTTERANCE :: { lcc: 0.9313, srcc: 0.9382, mse: 0.0423, ktau: 0.7889 } :: SYSTEM :: { lcc: 0.9465, srcc: 0.9463, mse: 0.0329, ktau: 0.8165 }\n",
      "2023-12-10 17:06:07.806925 :: EPOCH 46 :: MOSNET_TRAIN :: METRICS :: \n",
      "UTTERANCE :: { lcc: 0.9364, srcc: 0.9431, mse: 0.0393, ktau: 0.7981 } :: SYSTEM :: { lcc: 0.9199, srcc: 0.9128, mse: 0.0441, ktau: 0.7741 }\n",
      "2023-12-10 17:06:52.089295 :: EPOCH 47 :: MOSNET_TRAIN :: METRICS :: \n",
      "UTTERANCE :: { lcc: 0.9422, srcc: 0.9480, mse: 0.0359, ktau: 0.8072 } :: SYSTEM :: { lcc: 0.9139, srcc: 0.8983, mse: 0.0444, ktau: 0.7439 }\n",
      "2023-12-10 17:07:36.331590 :: EPOCH 48 :: MOSNET_TRAIN :: METRICS :: \n",
      "UTTERANCE :: { lcc: 0.9445, srcc: 0.9497, mse: 0.0345, ktau: 0.8107 } :: SYSTEM :: { lcc: 0.9530, srcc: 0.9515, mse: 0.0379, ktau: 0.8262 }\n",
      "2023-12-10 17:08:20.397847 :: EPOCH 49 :: MOSNET_TRAIN :: METRICS :: \n",
      "UTTERANCE :: { lcc: 0.9496, srcc: 0.9540, mse: 0.0314, ktau: 0.8198 } :: SYSTEM :: { lcc: 0.9384, srcc: 0.9311, mse: 0.0309, ktau: 0.7923 }\n",
      "2023-12-10 17:09:04.740085 :: EPOCH 50 :: MOSNET_TRAIN :: METRICS :: \n",
      "UTTERANCE :: { lcc: 0.9570, srcc: 0.9616, mse: 0.0269, ktau: 0.8354 } :: SYSTEM :: { lcc: 0.9629, srcc: 0.9650, mse: 0.0260, ktau: 0.8510 }\n"
     ]
    }
   ],
   "source": [
    "# train baseline MOSNet model\n",
    "\n",
    "model = train_mosnet(\n",
    "    model=model, \n",
    "    model_name='mosnet',\n",
    "    train_params={\n",
    "        'epochs': 50,\n",
    "        'batch_size': 64,\n",
    "        'num_workers': 5,\n",
    "        'learning_rate': 1e-4\n",
    "    },\n",
    "    #validation_params=TEST_VAL_PARAMS,\n",
    "    \n",
    "    device=DEVICE,\n",
    "    run_dir='runs/prod/mosnet'\n",
    ")"
   ]
  },
  {
   "cell_type": "code",
   "execution_count": 4,
   "metadata": {},
   "outputs": [
    {
     "data": {
      "text/plain": [
       "\"\\ntest(\\n    model=model,\\n    model_name='mosnet',\\n    run_dir='/runs',\\n    run_key='prod',\\n    test_params=TEST_VAL_PARAMS\\n)\\n\""
      ]
     },
     "execution_count": 4,
     "metadata": {},
     "output_type": "execute_result"
    }
   ],
   "source": [
    "# test baseline MOSNet model\n",
    "\n",
    "## TODO: make sure test infers model device\n",
    "'''\n",
    "test(\n",
    "    model=model,\n",
    "    model_name='mosnet',\n",
    "    run_dir='/runs',\n",
    "    run_key='prod',\n",
    "    test_params=TEST_VAL_PARAMS\n",
    ")\n",
    "'''"
   ]
  },
  {
   "cell_type": "code",
   "execution_count": 5,
   "metadata": {},
   "outputs": [
    {
     "data": {
      "text/plain": [
       "\"\\nmodel = ProsAlignMOSNet(\\n    stft_params=MOSNET_STFT_PARAMS,\\n    model_params={\\n        'pros_align_embedding_size': 64,\\n        'pros_align_ff_dim': 128,\\n        'pros_align_ff_dropout': 0.1,\\n        'pros_align_bigru_dim': 128,\\n        **BASELINE_MOSNET_PARAMS\\n    }\\n)\\n\""
      ]
     },
     "execution_count": 5,
     "metadata": {},
     "output_type": "execute_result"
    }
   ],
   "source": [
    "# define MOSNet model with prosody alignment\n",
    "\n",
    "'''\n",
    "model = ProsAlignMOSNet(\n",
    "    stft_params=MOSNET_STFT_PARAMS,\n",
    "    model_params={\n",
    "        'pros_align_embedding_size': 64,\n",
    "        'pros_align_ff_dim': 128,\n",
    "        'pros_align_ff_dropout': 0.1,\n",
    "        'pros_align_bigru_dim': 128,\n",
    "        **BASELINE_MOSNET_PARAMS\n",
    "    }\n",
    ")\n",
    "'''"
   ]
  }
 ],
 "metadata": {
  "kernelspec": {
   "display_name": "mos_prediction",
   "language": "python",
   "name": "python3"
  },
  "language_info": {
   "codemirror_mode": {
    "name": "ipython",
    "version": 3
   },
   "file_extension": ".py",
   "mimetype": "text/x-python",
   "name": "python",
   "nbconvert_exporter": "python",
   "pygments_lexer": "ipython3",
   "version": "3.8.18"
  }
 },
 "nbformat": 4,
 "nbformat_minor": 2
}
